{
 "cells": [
  {
   "attachments": {},
   "cell_type": "markdown",
   "metadata": {},
   "source": [
    "## From https://discourse.julialang.org/t/solving-sparse-linear-systems-fast/83071/9"
   ]
  },
  {
   "cell_type": "code",
   "execution_count": 1,
   "metadata": {},
   "outputs": [],
   "source": [
    "using LinearSolve, LinearSolvePardiso, SparseArrays\n",
    "using AlgebraicMultigrid\n",
    "using IncompleteLU"
   ]
  },
  {
   "cell_type": "code",
   "execution_count": null,
   "metadata": {},
   "outputs": [],
   "source": [
    "A = # your matrix\n",
    "b = # test b\n",
    "\n",
    "prob = LinearProblem(A, b)"
   ]
  },
  {
   "cell_type": "code",
   "execution_count": null,
   "metadata": {},
   "outputs": [],
   "source": [
    "for alg in (\n",
    "    MKLPardisoFactorize(),\n",
    "    MKLPardisoIterate(),\n",
    "    UMFPACKFactorization(),\n",
    "    KLUFactorization())\n",
    "\n",
    "    u = solve(prob, alg).u\n",
    "end"
   ]
  },
  {
   "cell_type": "code",
   "execution_count": null,
   "metadata": {},
   "outputs": [],
   "source": [
    "ml = ruge_stuben(A) # Construct a Ruge-Stuben solver\n",
    "pl = aspreconditioner(ml)\n",
    "solve(prob1, KrylovJL_GMRES(), Pl = pl).u"
   ]
  },
  {
   "cell_type": "code",
   "execution_count": null,
   "metadata": {},
   "outputs": [],
   "source": [
    "pl = ilu(A, τ = 0.1) # τ needs to be tuned per problem\n",
    "solve(prob1, KrylovJL_GMRES(), Pl = pl).u"
   ]
  }
 ],
 "metadata": {
  "kernelspec": {
   "display_name": "Julia 1.8.5",
   "language": "julia",
   "name": "julia-1.8"
  },
  "language_info": {
   "file_extension": ".jl",
   "mimetype": "application/julia",
   "name": "julia",
   "version": "1.8.5"
  },
  "orig_nbformat": 4,
  "vscode": {
   "interpreter": {
    "hash": "c261aea317cc0286b3b3261fbba9abdec21eaa57589985bb7a274bf54d6cc0a7"
   }
  }
 },
 "nbformat": 4,
 "nbformat_minor": 2
}
